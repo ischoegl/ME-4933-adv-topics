{
 "cells": [
  {
   "cell_type": "markdown",
   "id": "b2899431",
   "metadata": {},
   "source": [
    "```{image} ../../logos/python_for_data_science.png\n",
    ":alt: python programming for data science\n",
    ":height: 100px\n",
    "```\n",
    "<hr>"
   ]
  },
  {
   "cell_type": "markdown",
   "id": "e86ab96a",
   "metadata": {},
   "source": [
    "# Basic Data Types\n",
    "<hr>"
   ]
  },
  {
   "cell_type": "markdown",
   "id": "d0bdc8ff",
   "metadata": {},
   "source": [
    "A **value** is a piece of data that a computer program works with such as a number or text. There are different **types** of values: `42` is an integer and `\"Hello!\"` is a string. A **variable** is a name that refers to a value. In mathematics and statistics, we usually use variable names like $x$ and $y$. In Python, we can use any word as a variable name as long as it starts with a letter or an underscore. However, it should not be a [reserved word](https://docs.python.org/3.3/reference/lexical_analysis.html#keywords) in Python such as `for`, `while`, `class`, `lambda`, etc. as these words encode special functionality in Python that we don't want to overwrite!\n",
    "\n",
    "It can be helpful to think of a variable as a box that holds some information (a single number, a vector, a string, etc). We use the **assignment operator** `=` to assign a value to a variable.\n",
    "\n",
    "<!-- ![](img/chapter1/box.png)\n",
    "\n",
    "Image modified from: [medium.com](https://www.google.com/url?sa=i&url=https%3A%2F%2Fmedium.com%2F%40stevenpcurtis.sc%2Fwhat-is-a-variable-3447ac1331b9&psig=AOvVaw3YbYfgb7XFOJ_sHP5eliob&ust=1595365663851000&source=images&cd=vfe&ved=0CA0QjhxqFwoTCMi8nrfe3OoCFQAAAAAdAAAAABAZ) -->\n",
    "\n",
    "```{tip}\n",
    "See the [Python 3 documentation](https://docs.python.org/3/library/stdtypes.html) for a summary of the standard built-in Python datatypes.\n",
    "```"
   ]
  },
  {
   "cell_type": "markdown",
   "id": "e5916fdb",
   "metadata": {},
   "source": [
    "## Common built-in Python data types\n",
    "\n",
    "| English name          | Type name  | Type Category  | Description                                   | Example                                    |\n",
    "| :-------------------- | :--------- | :------------- | :-------------------------------------------- | :----------------------------------------- |\n",
    "| integer               | `int`      | Numeric Type   | positive/negative whole numbers               | `42`                                       |\n",
    "| floating point number | `float`    | Numeric Type   | real number in decimal form                   | `3.14159`                                  |\n",
    "| boolean               | `bool`     | Boolean Values | true or false                                 | `True`                                     |\n",
    "| string                | `str`      | Sequence Type  | text                                          | `\"I Can Has Cheezburger?\"`                 |\n",
    "| list                  | `list`     | Sequence Type  | a collection of objects - mutable & ordered   | `['Ali', 'Xinyi', 'Miriam']`               |\n",
    "| tuple                 | `tuple`    | Sequence Type  | a collection of objects - immutable & ordered | `('Thursday', 6, 9, 2018)`                 |\n",
    "| dictionary            | `dict`     | Mapping Type   | mapping of key-value pairs                    | `{'name':'DSCI', 'code':511, 'credits':2}` |\n",
    "| none                  | `NoneType` | Null Object    | represents no value                           | `None`                                     |"
   ]
  },
  {
   "cell_type": "markdown",
   "id": "5e238b7a",
   "metadata": {},
   "source": [
    "## Numeric data types"
   ]
  },
  {
   "cell_type": "markdown",
   "id": "125b2ce7",
   "metadata": {},
   "source": [
    "There are three distinct numeric types: `integers`, `floating point numbers`, and `complex numbers` (not covered here). We can determine the type of an object in Python using `type()`. We can print the value of the object using `print()`."
   ]
  },
  {
   "cell_type": "code",
   "execution_count": 1,
   "id": "17e9d09c",
   "metadata": {},
   "outputs": [],
   "source": [
    "x = 42"
   ]
  },
  {
   "cell_type": "code",
   "execution_count": 2,
   "id": "423195ba",
   "metadata": {},
   "outputs": [
    {
     "data": {
      "text/plain": [
       "int"
      ]
     },
     "execution_count": 2,
     "metadata": {},
     "output_type": "execute_result"
    }
   ],
   "source": [
    "type(x)"
   ]
  },
  {
   "cell_type": "code",
   "execution_count": 3,
   "id": "337dfafb",
   "metadata": {},
   "outputs": [
    {
     "name": "stdout",
     "output_type": "stream",
     "text": [
      "42\n"
     ]
    }
   ],
   "source": [
    "print(x)"
   ]
  },
  {
   "cell_type": "markdown",
   "id": "551fbcf7",
   "metadata": {},
   "source": [
    "In Jupyter/IPython (an interactive version of Python), the last line of a cell will automatically be printed to screen so we don't actually need to explicitly call `print()`."
   ]
  },
  {
   "cell_type": "code",
   "execution_count": 4,
   "id": "136ad677",
   "metadata": {},
   "outputs": [
    {
     "data": {
      "text/plain": [
       "42"
      ]
     },
     "execution_count": 4,
     "metadata": {},
     "output_type": "execute_result"
    }
   ],
   "source": [
    "x  # Anything after the pound/hash symbol is a comment and will not be run"
   ]
  },
  {
   "cell_type": "code",
   "execution_count": 5,
   "id": "7318e586",
   "metadata": {},
   "outputs": [
    {
     "data": {
      "text/plain": [
       "3.14159"
      ]
     },
     "execution_count": 5,
     "metadata": {},
     "output_type": "execute_result"
    }
   ],
   "source": [
    "pi = 3.14159\n",
    "pi"
   ]
  },
  {
   "cell_type": "code",
   "execution_count": 6,
   "id": "f1ef4e8e",
   "metadata": {},
   "outputs": [
    {
     "data": {
      "text/plain": [
       "float"
      ]
     },
     "execution_count": 6,
     "metadata": {},
     "output_type": "execute_result"
    }
   ],
   "source": [
    "type(pi)"
   ]
  },
  {
   "cell_type": "markdown",
   "id": "46c2fca9",
   "metadata": {},
   "source": [
    "## Arithmetic Operators\n",
    "\n",
    "Below is a table of the syntax for common arithmetic operations in Python:\n",
    "\n",
    "| Operator |   Description    |\n",
    "| :------: | :--------------: |\n",
    "|   `+`    |     addition     |\n",
    "|   `-`    |   subtraction    |\n",
    "|   `*`    |  multiplication  |\n",
    "|   `/`    |     division     |\n",
    "|   `**`   |  exponentiation  |\n",
    "|   `//`   | integer division / floor division |\n",
    "|   `%`    |      modulo      |\n",
    "\n",
    "Let's have a go at applying these operators to numeric types and observe the results."
   ]
  },
  {
   "cell_type": "code",
   "execution_count": 7,
   "id": "19792816",
   "metadata": {},
   "outputs": [
    {
     "data": {
      "text/plain": [
       "15"
      ]
     },
     "execution_count": 7,
     "metadata": {},
     "output_type": "execute_result"
    }
   ],
   "source": [
    "1 + 2 + 3 + 4 + 5  # add"
   ]
  },
  {
   "cell_type": "code",
   "execution_count": 8,
   "id": "11cdb657",
   "metadata": {},
   "outputs": [
    {
     "data": {
      "text/plain": [
       "6.28318"
      ]
     },
     "execution_count": 8,
     "metadata": {},
     "output_type": "execute_result"
    }
   ],
   "source": [
    "2 * 3.14159  # multiply"
   ]
  },
  {
   "cell_type": "code",
   "execution_count": 9,
   "id": "fb0a93a2",
   "metadata": {},
   "outputs": [
    {
     "data": {
      "text/plain": [
       "1024"
      ]
     },
     "execution_count": 9,
     "metadata": {},
     "output_type": "execute_result"
    }
   ],
   "source": [
    "2 ** 10  # exponent"
   ]
  },
  {
   "cell_type": "markdown",
   "id": "f455c3b9",
   "metadata": {},
   "source": [
    "Division may produce a different `dtype` than expected, it will change `int` to `float`."
   ]
  },
  {
   "cell_type": "code",
   "execution_count": 10,
   "id": "e32c1657",
   "metadata": {},
   "outputs": [
    {
     "data": {
      "text/plain": [
       "int"
      ]
     },
     "execution_count": 10,
     "metadata": {},
     "output_type": "execute_result"
    }
   ],
   "source": [
    "int_2 = 2\n",
    "type(int_2)"
   ]
  },
  {
   "cell_type": "code",
   "execution_count": 11,
   "id": "b909a1cc",
   "metadata": {},
   "outputs": [
    {
     "data": {
      "text/plain": [
       "1.0"
      ]
     },
     "execution_count": 11,
     "metadata": {},
     "output_type": "execute_result"
    }
   ],
   "source": [
    "int_2 / int_2  # divison"
   ]
  },
  {
   "cell_type": "code",
   "execution_count": 12,
   "id": "ed2c4c70",
   "metadata": {},
   "outputs": [
    {
     "data": {
      "text/plain": [
       "float"
      ]
     },
     "execution_count": 12,
     "metadata": {},
     "output_type": "execute_result"
    }
   ],
   "source": [
    "type(int_2 / int_2)"
   ]
  },
  {
   "cell_type": "markdown",
   "id": "d7a68725",
   "metadata": {},
   "source": [
    "But the syntax `//` allows us to do \"integer division\" (aka \"floor division\") and retain the `int` data type, it always rounds down."
   ]
  },
  {
   "cell_type": "code",
   "execution_count": 13,
   "id": "6540e793",
   "metadata": {},
   "outputs": [
    {
     "data": {
      "text/plain": [
       "50.5"
      ]
     },
     "execution_count": 13,
     "metadata": {},
     "output_type": "execute_result"
    }
   ],
   "source": [
    "101 / 2"
   ]
  },
  {
   "cell_type": "code",
   "execution_count": 14,
   "id": "221ce76e",
   "metadata": {},
   "outputs": [
    {
     "data": {
      "text/plain": [
       "50"
      ]
     },
     "execution_count": 14,
     "metadata": {},
     "output_type": "execute_result"
    }
   ],
   "source": [
    "101 // 2  # \"floor division\" - always rounds down"
   ]
  },
  {
   "cell_type": "markdown",
   "id": "edfbb808",
   "metadata": {},
   "source": [
    "We refer to this as \"integer division\" or \"floor division\" because it's like calling `int` on the result of a division, which rounds down to the nearest integer, or \"floors\" the result."
   ]
  },
  {
   "cell_type": "code",
   "execution_count": 15,
   "id": "017c5c71",
   "metadata": {},
   "outputs": [
    {
     "data": {
      "text/plain": [
       "50"
      ]
     },
     "execution_count": 15,
     "metadata": {},
     "output_type": "execute_result"
    }
   ],
   "source": [
    "int(101 / 2)"
   ]
  },
  {
   "cell_type": "markdown",
   "id": "75d043f6",
   "metadata": {},
   "source": [
    "The `%` \"modulo\" operator gives us the remainder after division."
   ]
  },
  {
   "cell_type": "code",
   "execution_count": 16,
   "id": "7d5cf7b8",
   "metadata": {},
   "outputs": [
    {
     "data": {
      "text/plain": [
       "0"
      ]
     },
     "execution_count": 16,
     "metadata": {},
     "output_type": "execute_result"
    }
   ],
   "source": [
    "100 % 2  # \"100 mod 2\", or the remainder when 100 is divided by 2"
   ]
  },
  {
   "cell_type": "code",
   "execution_count": 17,
   "id": "a4dc0c8e",
   "metadata": {},
   "outputs": [
    {
     "data": {
      "text/plain": [
       "1"
      ]
     },
     "execution_count": 17,
     "metadata": {},
     "output_type": "execute_result"
    }
   ],
   "source": [
    "101 % 2  # \"101 mod 2\", or the remainder when 101 is divided by 2"
   ]
  },
  {
   "cell_type": "code",
   "execution_count": 18,
   "id": "ba011184",
   "metadata": {},
   "outputs": [
    {
     "data": {
      "text/plain": [
       "0.5"
      ]
     },
     "execution_count": 18,
     "metadata": {},
     "output_type": "execute_result"
    }
   ],
   "source": [
    "100.5 % 2"
   ]
  },
  {
   "cell_type": "markdown",
   "id": "3219c0ba",
   "metadata": {},
   "source": [
    "## None\n",
    "\n",
    "`NoneType` is its own type in Python. It only has one possible value, `None` - it represents an object with no value. We'll see it again in a later chapter."
   ]
  },
  {
   "cell_type": "code",
   "execution_count": 19,
   "id": "e6863a1d",
   "metadata": {},
   "outputs": [],
   "source": [
    "x = None"
   ]
  },
  {
   "cell_type": "code",
   "execution_count": 20,
   "id": "f14fc3bb",
   "metadata": {},
   "outputs": [
    {
     "name": "stdout",
     "output_type": "stream",
     "text": [
      "None\n"
     ]
    }
   ],
   "source": [
    "print(x)"
   ]
  },
  {
   "cell_type": "code",
   "execution_count": 21,
   "id": "afbc63ea",
   "metadata": {},
   "outputs": [
    {
     "data": {
      "text/plain": [
       "NoneType"
      ]
     },
     "execution_count": 21,
     "metadata": {},
     "output_type": "execute_result"
    }
   ],
   "source": [
    "type(x)"
   ]
  },
  {
   "cell_type": "markdown",
   "id": "eedda317",
   "metadata": {},
   "source": [
    "## Strings\n",
    "\n",
    "Text is stored as a data type called a `string`. We can think of a string as a sequence of characters.\n",
    "\n",
    "```{tip}\n",
    "Actually they are a sequence of Unicode code points. Here's a [great blog post](https://www.joelonsoftware.com/2003/10/08/the-absolute-minimum-every-software-developer-absolutely-positively-must-know-about-unicode-and-character-sets-no-excuses/) on Unicode if you're interested.\n",
    "```\n",
    "\n",
    "We write strings as characters enclosed with either:\n",
    "  - single quotes, e.g., `'Hello'`\n",
    "  - double quotes, e.g., `\"Goodbye\"`\n",
    "\n",
    "There's no difference between the two methods, but there are cases where having both is useful (more on that below)! We also have triple double quotes, which are typically used for function documentation (more on that in a later chapter), e.g., `\"\"\"This function adds two numbers\"\"\"`."
   ]
  },
  {
   "cell_type": "code",
   "execution_count": 22,
   "id": "8cb2e99f",
   "metadata": {},
   "outputs": [],
   "source": [
    "my_name = \"Tomas Beuzen\""
   ]
  },
  {
   "cell_type": "code",
   "execution_count": 23,
   "id": "9af21a71",
   "metadata": {},
   "outputs": [
    {
     "data": {
      "text/plain": [
       "'Tomas Beuzen'"
      ]
     },
     "execution_count": 23,
     "metadata": {},
     "output_type": "execute_result"
    }
   ],
   "source": [
    "my_name"
   ]
  },
  {
   "cell_type": "code",
   "execution_count": 24,
   "id": "5e8445c2",
   "metadata": {},
   "outputs": [
    {
     "data": {
      "text/plain": [
       "str"
      ]
     },
     "execution_count": 24,
     "metadata": {},
     "output_type": "execute_result"
    }
   ],
   "source": [
    "type(my_name)"
   ]
  },
  {
   "cell_type": "code",
   "execution_count": 25,
   "id": "d8ed6ad1",
   "metadata": {},
   "outputs": [],
   "source": [
    "course = 'DSCI 511'"
   ]
  },
  {
   "cell_type": "code",
   "execution_count": 26,
   "id": "6961c992",
   "metadata": {},
   "outputs": [
    {
     "data": {
      "text/plain": [
       "'DSCI 511'"
      ]
     },
     "execution_count": 26,
     "metadata": {},
     "output_type": "execute_result"
    }
   ],
   "source": [
    "course"
   ]
  },
  {
   "cell_type": "code",
   "execution_count": 27,
   "id": "d1f41907",
   "metadata": {},
   "outputs": [
    {
     "data": {
      "text/plain": [
       "str"
      ]
     },
     "execution_count": 27,
     "metadata": {},
     "output_type": "execute_result"
    }
   ],
   "source": [
    "type(course)"
   ]
  },
  {
   "cell_type": "markdown",
   "id": "7550075b",
   "metadata": {},
   "source": [
    "If the string contains a quotation or apostrophe, we can use a combination of single and double quotes to define the string."
   ]
  },
  {
   "cell_type": "code",
   "execution_count": 28,
   "id": "9fbe619c",
   "metadata": {},
   "outputs": [],
   "source": [
    "sentence = \"It's a rainy day.\""
   ]
  },
  {
   "cell_type": "code",
   "execution_count": 29,
   "id": "845acee3",
   "metadata": {},
   "outputs": [
    {
     "data": {
      "text/plain": [
       "\"It's a rainy day.\""
      ]
     },
     "execution_count": 29,
     "metadata": {},
     "output_type": "execute_result"
    }
   ],
   "source": [
    "sentence"
   ]
  },
  {
   "cell_type": "code",
   "execution_count": 30,
   "id": "b8eadb9b",
   "metadata": {},
   "outputs": [
    {
     "data": {
      "text/plain": [
       "str"
      ]
     },
     "execution_count": 30,
     "metadata": {},
     "output_type": "execute_result"
    }
   ],
   "source": [
    "type(sentence)"
   ]
  },
  {
   "cell_type": "code",
   "execution_count": 31,
   "id": "5f1b510f",
   "metadata": {},
   "outputs": [],
   "source": [
    "quote = 'Donald Knuth: \"Premature optimization is the root of all evil.\"'"
   ]
  },
  {
   "cell_type": "code",
   "execution_count": 32,
   "id": "14f101be",
   "metadata": {},
   "outputs": [
    {
     "data": {
      "text/plain": [
       "'Donald Knuth: \"Premature optimization is the root of all evil.\"'"
      ]
     },
     "execution_count": 32,
     "metadata": {},
     "output_type": "execute_result"
    }
   ],
   "source": [
    "quote"
   ]
  },
  {
   "cell_type": "markdown",
   "id": "fdebc98c",
   "metadata": {},
   "source": [
    "## Boolean\n",
    "\n",
    "The Boolean (`bool`) type has two values: `True` and `False`."
   ]
  },
  {
   "cell_type": "code",
   "execution_count": 33,
   "id": "169c8397",
   "metadata": {},
   "outputs": [],
   "source": [
    "the_truth = True"
   ]
  },
  {
   "cell_type": "code",
   "execution_count": 34,
   "id": "59cfed09",
   "metadata": {},
   "outputs": [
    {
     "data": {
      "text/plain": [
       "True"
      ]
     },
     "execution_count": 34,
     "metadata": {},
     "output_type": "execute_result"
    }
   ],
   "source": [
    "the_truth"
   ]
  },
  {
   "cell_type": "code",
   "execution_count": 35,
   "id": "623a9250",
   "metadata": {},
   "outputs": [
    {
     "data": {
      "text/plain": [
       "bool"
      ]
     },
     "execution_count": 35,
     "metadata": {},
     "output_type": "execute_result"
    }
   ],
   "source": [
    "type(the_truth)"
   ]
  },
  {
   "cell_type": "code",
   "execution_count": 36,
   "id": "7169ab2a",
   "metadata": {},
   "outputs": [],
   "source": [
    "lies = False"
   ]
  },
  {
   "cell_type": "code",
   "execution_count": 37,
   "id": "d0504fc4",
   "metadata": {},
   "outputs": [
    {
     "data": {
      "text/plain": [
       "False"
      ]
     },
     "execution_count": 37,
     "metadata": {},
     "output_type": "execute_result"
    }
   ],
   "source": [
    "lies"
   ]
  },
  {
   "cell_type": "code",
   "execution_count": 38,
   "id": "ce9242ea",
   "metadata": {},
   "outputs": [
    {
     "data": {
      "text/plain": [
       "bool"
      ]
     },
     "execution_count": 38,
     "metadata": {},
     "output_type": "execute_result"
    }
   ],
   "source": [
    "type(lies)"
   ]
  },
  {
   "cell_type": "markdown",
   "id": "3a3a87b9",
   "metadata": {},
   "source": [
    "## Comparison Operators\n",
    "\n",
    "We can compare objects using comparison operators, and we'll get back a Boolean result:\n",
    "\n",
    "| Operator  | Description                          |\n",
    "| :-------- | :----------------------------------- |\n",
    "| `x == y ` | is `x` equal to `y`?                 |\n",
    "| `x != y`  | is `x` not equal to `y`?             |\n",
    "| `x > y`   | is `x` greater than `y`?             |\n",
    "| `x >= y`  | is `x` greater than or equal to `y`? |\n",
    "| `x < y`   | is `x` less than `y`?                |\n",
    "| `x <= y`  | is `x` less than or equal to `y`?    |\n",
    "| `x is y`  | is `x` the same object as `y`?       |"
   ]
  },
  {
   "cell_type": "code",
   "execution_count": 39,
   "id": "a1ec6688",
   "metadata": {},
   "outputs": [
    {
     "data": {
      "text/plain": [
       "True"
      ]
     },
     "execution_count": 39,
     "metadata": {},
     "output_type": "execute_result"
    }
   ],
   "source": [
    "2 < 3"
   ]
  },
  {
   "cell_type": "code",
   "execution_count": 40,
   "id": "aa0840b2",
   "metadata": {},
   "outputs": [
    {
     "data": {
      "text/plain": [
       "False"
      ]
     },
     "execution_count": 40,
     "metadata": {},
     "output_type": "execute_result"
    }
   ],
   "source": [
    "\"Deep learning\" == \"Solve all the world's problems\""
   ]
  },
  {
   "cell_type": "code",
   "execution_count": 41,
   "id": "f349e61c",
   "metadata": {},
   "outputs": [
    {
     "data": {
      "text/plain": [
       "True"
      ]
     },
     "execution_count": 41,
     "metadata": {},
     "output_type": "execute_result"
    }
   ],
   "source": [
    "2 != \"2\""
   ]
  },
  {
   "cell_type": "code",
   "execution_count": 42,
   "id": "f5ec0b03",
   "metadata": {},
   "outputs": [
    {
     "name": "stderr",
     "output_type": "stream",
     "text": [
      "<>:1: SyntaxWarning: \"is\" with a literal. Did you mean \"==\"?\n",
      "<>:1: SyntaxWarning: \"is\" with a literal. Did you mean \"==\"?\n",
      "/tmp/ipykernel_2718/564785565.py:1: SyntaxWarning: \"is\" with a literal. Did you mean \"==\"?\n",
      "  2 is 2\n"
     ]
    },
    {
     "data": {
      "text/plain": [
       "True"
      ]
     },
     "execution_count": 42,
     "metadata": {},
     "output_type": "execute_result"
    }
   ],
   "source": [
    "2 is 2"
   ]
  },
  {
   "cell_type": "code",
   "execution_count": 43,
   "id": "037051ad",
   "metadata": {},
   "outputs": [
    {
     "data": {
      "text/plain": [
       "True"
      ]
     },
     "execution_count": 43,
     "metadata": {},
     "output_type": "execute_result"
    }
   ],
   "source": [
    "2 == 2.0"
   ]
  },
  {
   "cell_type": "markdown",
   "id": "e4b24981",
   "metadata": {},
   "source": [
    "## Boolean Operators\n",
    "\n",
    "We also have so-called \"boolean operators\" which also evaluates to either `True` or `False`:\n",
    "\n",
    "| Operator | Description |\n",
    "| :---: | :--- |\n",
    "|`x and y`| are `x` and `y` both True? |\n",
    "|`x or y` | is at least one of `x` and `y` True? |\n",
    "| `not x` | is `x` False? |"
   ]
  },
  {
   "cell_type": "code",
   "execution_count": 44,
   "id": "cea96ab5",
   "metadata": {},
   "outputs": [
    {
     "data": {
      "text/plain": [
       "True"
      ]
     },
     "execution_count": 44,
     "metadata": {},
     "output_type": "execute_result"
    }
   ],
   "source": [
    "True and True"
   ]
  },
  {
   "cell_type": "code",
   "execution_count": 45,
   "id": "01f09e9f",
   "metadata": {},
   "outputs": [
    {
     "data": {
      "text/plain": [
       "False"
      ]
     },
     "execution_count": 45,
     "metadata": {},
     "output_type": "execute_result"
    }
   ],
   "source": [
    "True and False"
   ]
  },
  {
   "cell_type": "code",
   "execution_count": 46,
   "id": "2c81f348",
   "metadata": {},
   "outputs": [
    {
     "data": {
      "text/plain": [
       "True"
      ]
     },
     "execution_count": 46,
     "metadata": {},
     "output_type": "execute_result"
    }
   ],
   "source": [
    "True or False"
   ]
  },
  {
   "cell_type": "code",
   "execution_count": 47,
   "id": "bdc6f88c",
   "metadata": {},
   "outputs": [
    {
     "data": {
      "text/plain": [
       "False"
      ]
     },
     "execution_count": 47,
     "metadata": {},
     "output_type": "execute_result"
    }
   ],
   "source": [
    "False or False"
   ]
  },
  {
   "cell_type": "code",
   "execution_count": 48,
   "id": "3c56b2be",
   "metadata": {},
   "outputs": [
    {
     "data": {
      "text/plain": [
       "True"
      ]
     },
     "execution_count": 48,
     "metadata": {},
     "output_type": "execute_result"
    }
   ],
   "source": [
    "(\"Python 2\" != \"Python 3\") and (2 <= 3)"
   ]
  },
  {
   "cell_type": "code",
   "execution_count": 49,
   "id": "e9c4cfa0",
   "metadata": {},
   "outputs": [
    {
     "data": {
      "text/plain": [
       "True"
      ]
     },
     "execution_count": 49,
     "metadata": {},
     "output_type": "execute_result"
    }
   ],
   "source": [
    "True"
   ]
  },
  {
   "cell_type": "code",
   "execution_count": 50,
   "id": "a0f123b0",
   "metadata": {},
   "outputs": [
    {
     "data": {
      "text/plain": [
       "False"
      ]
     },
     "execution_count": 50,
     "metadata": {},
     "output_type": "execute_result"
    }
   ],
   "source": [
    "not True"
   ]
  },
  {
   "cell_type": "code",
   "execution_count": 51,
   "id": "d95ff408",
   "metadata": {},
   "outputs": [
    {
     "data": {
      "text/plain": [
       "True"
      ]
     },
     "execution_count": 51,
     "metadata": {},
     "output_type": "execute_result"
    }
   ],
   "source": [
    "not not True"
   ]
  },
  {
   "cell_type": "markdown",
   "id": "d461d4f0",
   "metadata": {},
   "source": [
    "```{note}\n",
    "Python also has [bitwise operators](https://wiki.python.org/moin/BitwiseOperators) like `&` and `|`. Bitwise operators literally compare the bits of two integers. That's beyond the scope of this course but I've included a code snippet below to show you them in action.\n",
    "```"
   ]
  },
  {
   "cell_type": "code",
   "execution_count": 52,
   "id": "e4cf3921",
   "metadata": {},
   "outputs": [
    {
     "name": "stdout",
     "output_type": "stream",
     "text": [
      "Bit representation of the number 5: 101\n",
      "Bit representation of the number 4: 100\n",
      "                                    ↓↓↓\n",
      "                                    100\n",
      "                                     ↓ \n",
      "                                     4\n"
     ]
    }
   ],
   "source": [
    "print(f\"Bit representation of the number 5: {5:0b}\")\n",
    "print(f\"Bit representation of the number 4: {4:0b}\")\n",
    "print(f\"                                    ↓↓↓\")\n",
    "print(f\"                                    {5 & 4:0b}\")\n",
    "print(f\"                                     ↓ \")\n",
    "print(f\"                                     {5 & 4}\")"
   ]
  },
  {
   "cell_type": "markdown",
   "id": "95b5aa79",
   "metadata": {},
   "source": [
    "## Casting\n",
    "\n",
    "Sometimes we need to explicitly **cast** a value from one type to another. We can do this using functions like `str()`, `int()`, and `float()`. Python tries to do the conversion, or throws an error if it can't."
   ]
  },
  {
   "cell_type": "code",
   "execution_count": 53,
   "id": "719075dd",
   "metadata": {},
   "outputs": [
    {
     "data": {
      "text/plain": [
       "float"
      ]
     },
     "execution_count": 53,
     "metadata": {},
     "output_type": "execute_result"
    }
   ],
   "source": [
    "x = 5.0\n",
    "type(x)"
   ]
  },
  {
   "cell_type": "code",
   "execution_count": 54,
   "id": "69e22734",
   "metadata": {},
   "outputs": [
    {
     "data": {
      "text/plain": [
       "5"
      ]
     },
     "execution_count": 54,
     "metadata": {},
     "output_type": "execute_result"
    }
   ],
   "source": [
    "x = int(5.0)\n",
    "x"
   ]
  },
  {
   "cell_type": "code",
   "execution_count": 55,
   "id": "2bb7b222",
   "metadata": {},
   "outputs": [
    {
     "data": {
      "text/plain": [
       "int"
      ]
     },
     "execution_count": 55,
     "metadata": {},
     "output_type": "execute_result"
    }
   ],
   "source": [
    "type(x)"
   ]
  },
  {
   "cell_type": "code",
   "execution_count": 56,
   "id": "fc188180",
   "metadata": {},
   "outputs": [
    {
     "data": {
      "text/plain": [
       "'5.0'"
      ]
     },
     "execution_count": 56,
     "metadata": {},
     "output_type": "execute_result"
    }
   ],
   "source": [
    "x = str(5.0)\n",
    "x"
   ]
  },
  {
   "cell_type": "code",
   "execution_count": 57,
   "id": "4145fd72",
   "metadata": {},
   "outputs": [
    {
     "data": {
      "text/plain": [
       "str"
      ]
     },
     "execution_count": 57,
     "metadata": {},
     "output_type": "execute_result"
    }
   ],
   "source": [
    "type(x)"
   ]
  },
  {
   "cell_type": "code",
   "execution_count": 58,
   "id": "2e72baee",
   "metadata": {},
   "outputs": [
    {
     "data": {
      "text/plain": [
       "False"
      ]
     },
     "execution_count": 58,
     "metadata": {},
     "output_type": "execute_result"
    }
   ],
   "source": [
    "str(5.0) == 5.0"
   ]
  },
  {
   "cell_type": "code",
   "execution_count": 59,
   "id": "320dec6a",
   "metadata": {},
   "outputs": [
    {
     "data": {
      "text/plain": [
       "5"
      ]
     },
     "execution_count": 59,
     "metadata": {},
     "output_type": "execute_result"
    }
   ],
   "source": [
    "int(5.3)"
   ]
  },
  {
   "cell_type": "code",
   "execution_count": 60,
   "id": "66ca2ad9",
   "metadata": {
    "tags": [
     "raises-exception"
    ]
   },
   "outputs": [
    {
     "ename": "ValueError",
     "evalue": "could not convert string to float: 'hello'",
     "output_type": "error",
     "traceback": [
      "\u001b[0;31m---------------------------------------------------------------------------\u001b[0m",
      "\u001b[0;31mValueError\u001b[0m                                Traceback (most recent call last)",
      "Input \u001b[0;32mIn [60]\u001b[0m, in \u001b[0;36m<cell line: 1>\u001b[0;34m()\u001b[0m\n\u001b[0;32m----> 1\u001b[0m \u001b[38;5;28;43mfloat\u001b[39;49m\u001b[43m(\u001b[49m\u001b[38;5;124;43m\"\u001b[39;49m\u001b[38;5;124;43mhello\u001b[39;49m\u001b[38;5;124;43m\"\u001b[39;49m\u001b[43m)\u001b[49m\n",
      "\u001b[0;31mValueError\u001b[0m: could not convert string to float: 'hello'"
     ]
    }
   ],
   "source": [
    "float(\"hello\")"
   ]
  }
 ],
 "metadata": {
  "jupytext": {
   "text_representation": {
    "extension": ".md",
    "format_name": "myst",
    "format_version": 0.13,
    "jupytext_version": "1.13.8"
   }
  },
  "kernelspec": {
   "display_name": "Python 3",
   "language": "python",
   "name": "python3"
  },
  "language_info": {
   "codemirror_mode": {
    "name": "ipython",
    "version": 3
   },
   "file_extension": ".py",
   "mimetype": "text/x-python",
   "name": "python",
   "nbconvert_exporter": "python",
   "pygments_lexer": "ipython3",
   "version": "3.9.12"
  },
  "source_map": [
   12,
   20,
   25,
   39,
   54,
   58,
   62,
   66,
   70,
   72,
   76,
   80,
   85,
   87,
   105,
   109,
   113,
   115,
   119,
   124,
   128,
   130,
   134,
   138,
   140,
   144,
   146,
   150,
   154,
   158,
   160,
   166,
   170,
   174,
   176,
   192,
   196,
   200,
   204,
   208,
   212,
   214,
   218,
   222,
   226,
   230,
   234,
   236,
   242,
   246,
   250,
   254,
   258,
   262,
   264,
   280,
   284,
   288,
   292,
   296,
   298,
   310,
   314,
   318,
   322,
   326,
   330,
   334,
   338,
   340,
   346,
   353,
   359,
   364,
   369,
   373,
   378,
   382,
   386,
   390
  ]
 },
 "nbformat": 4,
 "nbformat_minor": 5
}