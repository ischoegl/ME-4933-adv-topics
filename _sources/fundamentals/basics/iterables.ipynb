{
 "cells": [
  {
   "cell_type": "markdown",
   "id": "da641129",
   "metadata": {},
   "source": [
    "![](../../logo.png)"
   ]
  },
  {
   "cell_type": "markdown",
   "id": "3298f613",
   "metadata": {},
   "source": [
    "# Iterables\n",
    "<hr>"
   ]
  },
  {
   "cell_type": "markdown",
   "id": "21ea118b",
   "metadata": {},
   "source": [
    "## Lists and Tuples\n",
    "<hr>"
   ]
  },
  {
   "cell_type": "markdown",
   "id": "8d927cd0",
   "metadata": {},
   "source": [
    "## Strings (cont'd)\n",
    "<hr>"
   ]
  },
  {
   "cell_type": "markdown",
   "id": "645ff253",
   "metadata": {},
   "source": [
    "## Sets\n",
    "<hr>"
   ]
  },
  {
   "cell_type": "markdown",
   "id": "f616b0d7",
   "metadata": {},
   "source": [
    "## Dictionaries\n",
    "<hr>"
   ]
  }
 ],
 "metadata": {
  "jupytext": {
   "text_representation": {
    "extension": ".md",
    "format_name": "myst",
    "format_version": 0.13,
    "jupytext_version": "1.13.8"
   }
  },
  "kernelspec": {
   "display_name": "Python 3",
   "language": "python",
   "name": "python3"
  },
  "language_info": {
   "codemirror_mode": {
    "name": "ipython",
    "version": 3
   },
   "file_extension": ".py",
   "mimetype": "text/x-python",
   "name": "python",
   "nbconvert_exporter": "python",
   "pygments_lexer": "ipython3",
   "version": "3.9.12"
  },
  "source_map": [
   12,
   16,
   21,
   26,
   31,
   36
  ]
 },
 "nbformat": 4,
 "nbformat_minor": 5
}