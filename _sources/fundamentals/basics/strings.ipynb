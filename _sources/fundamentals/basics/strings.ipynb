{
 "cells": [
  {
   "cell_type": "markdown",
   "id": "f567fec0",
   "metadata": {},
   "source": [
    "![](../../logo.png)"
   ]
  },
  {
   "cell_type": "markdown",
   "id": "4e02c068",
   "metadata": {},
   "source": [
    "# Strings"
   ]
  }
 ],
 "metadata": {
  "jupytext": {
   "text_representation": {
    "extension": ".md",
    "format_name": "myst",
    "format_version": 0.13,
    "jupytext_version": "1.13.8"
   }
  },
  "kernelspec": {
   "display_name": "Python 3",
   "language": "python",
   "name": "python3"
  },
  "language_info": {
   "codemirror_mode": {
    "name": "ipython",
    "version": 3
   },
   "file_extension": ".py",
   "mimetype": "text/x-python",
   "name": "python",
   "nbconvert_exporter": "python",
   "pygments_lexer": "ipython3",
   "version": "3.9.12"
  },
  "source_map": [
   12,
   16
  ]
 },
 "nbformat": 4,
 "nbformat_minor": 5
}